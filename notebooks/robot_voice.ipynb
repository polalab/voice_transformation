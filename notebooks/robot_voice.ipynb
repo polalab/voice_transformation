{
 "cells": [
  {
   "cell_type": "code",
   "execution_count": 6,
   "id": "4b05677f-30bb-4a08-89a2-9471e26cf148",
   "metadata": {},
   "outputs": [],
   "source": [
    "import os\n",
    "import sys\n",
    "\n",
    "import librosa\n",
    "import pyworld as pw\n",
    "\n",
    "repos_vt_dir = os.path.dirname(os.getcwd())\n",
    "sys.path.append(repos_vt_dir)\n",
    "\n",
    "repos_dir = os.path.dirname(repos_vt_dir)"
   ]
  },
  {
   "cell_type": "code",
   "execution_count": 4,
   "id": "051d6924-a262-41d0-a63e-da9e3c5e8dfe",
   "metadata": {},
   "outputs": [],
   "source": [
    "wav_path = os.path.join(repos_vt_dir, 'sample', 'p225_001.wav')\n",
    "sampling_rate = 16000"
   ]
  },
  {
   "cell_type": "markdown",
   "id": "e4f90766-cd46-45a8-b0a5-378ce078c2e7",
   "metadata": {},
   "source": [
    "## extract WORLD features."
   ]
  },
  {
   "cell_type": "code",
   "execution_count": 20,
   "id": "51f7865c-cdbe-44d3-bbd8-d2b0f55bd9f4",
   "metadata": {},
   "outputs": [],
   "source": [
    "def load_wav(wav_path, sampling_rate=16000):\n",
    "    signal, sr = librosa.load(wav_path, sr=sampling_rate)\n",
    "    assert sr==sampling_rate, print(f'sampling rate should be {sampling_rate}, but is {sr}')\n",
    "    return signal.astype('float64')\n",
    "\n",
    "x = load_wav(wav_path)\n",
    "f0, sp, ap = pw.wav2world(x, sampling_rate)"
   ]
  },
  {
   "cell_type": "code",
   "execution_count": 18,
   "id": "e2d6627a-1c2a-49c0-8b33-6de7205ee8dd",
   "metadata": {},
   "outputs": [
    {
     "data": {
      "text/plain": [
       "array([0.00357056, 0.00665283, 0.0057373 , ..., 0.00817871, 0.00738525,\n",
       "       0.00891113], dtype=float32)"
      ]
     },
     "execution_count": 18,
     "metadata": {},
     "output_type": "execute_result"
    }
   ],
   "source": []
  }
 ],
 "metadata": {
  "kernelspec": {
   "display_name": "Python 3 (ipykernel)",
   "language": "python",
   "name": "python3"
  },
  "language_info": {
   "codemirror_mode": {
    "name": "ipython",
    "version": 3
   },
   "file_extension": ".py",
   "mimetype": "text/x-python",
   "name": "python",
   "nbconvert_exporter": "python",
   "pygments_lexer": "ipython3",
   "version": "3.9.0"
  }
 },
 "nbformat": 4,
 "nbformat_minor": 5
}
